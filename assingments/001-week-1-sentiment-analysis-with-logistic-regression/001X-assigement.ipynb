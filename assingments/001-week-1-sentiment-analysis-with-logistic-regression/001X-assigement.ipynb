{
 "cells": [
  {
   "cell_type": "markdown",
   "metadata": {},
   "source": [
    "# Assignment - Logistic Regression"
   ]
  },
  {
   "cell_type": "markdown",
   "metadata": {},
   "source": [
    "## Import libraries"
   ]
  },
  {
   "cell_type": "code",
   "execution_count": 469,
   "metadata": {},
   "outputs": [],
   "source": [
    "import nltk\n",
    "import numpy as np\n",
    "import pandas as pd\n",
    "from nltk.corpus import twitter_samples\n",
    "from nltk.corpus import stopwords\n",
    "import re\n",
    "import string\n",
    "from nltk.stem import PorterStemmer\n",
    "from nltk.tokenize import TweetTokenizer\n",
    "import matplotlib.pyplot as plt"
   ]
  },
  {
   "cell_type": "markdown",
   "metadata": {},
   "source": [
    "## Download data"
   ]
  },
  {
   "cell_type": "code",
   "execution_count": 470,
   "metadata": {},
   "outputs": [
    {
     "name": "stderr",
     "output_type": "stream",
     "text": [
      "[nltk_data] Downloading package twitter_samples to\n",
      "[nltk_data]     /Users/mikael/nltk_data...\n",
      "[nltk_data]   Package twitter_samples is already up-to-date!\n",
      "[nltk_data] Downloading package stopwords to\n",
      "[nltk_data]     /Users/mikael/nltk_data...\n",
      "[nltk_data]   Package stopwords is already up-to-date!\n"
     ]
    },
    {
     "data": {
      "text/plain": [
       "True"
      ]
     },
     "execution_count": 470,
     "metadata": {},
     "output_type": "execute_result"
    }
   ],
   "source": [
    "nltk.download(\"twitter_samples\")\n",
    "nltk.download(\"stopwords\")"
   ]
  },
  {
   "cell_type": "markdown",
   "metadata": {},
   "source": [
    "## Retrieve Data"
   ]
  },
  {
   "cell_type": "code",
   "execution_count": 471,
   "metadata": {},
   "outputs": [],
   "source": [
    "all_positive_tweets = twitter_samples.strings(\"positive_tweets.json\")\n",
    "all_negative_tweets = twitter_samples.strings(\"negative_tweets.json\")"
   ]
  },
  {
   "cell_type": "markdown",
   "metadata": {},
   "source": [
    "## Make train / test split"
   ]
  },
  {
   "cell_type": "code",
   "execution_count": 472,
   "metadata": {},
   "outputs": [
    {
     "name": "stdout",
     "output_type": "stream",
     "text": [
      "Len all positive tweets:  5000\n",
      "Len all negative tweets:  5000\n"
     ]
    }
   ],
   "source": [
    "TRAIN_PERC = 0.8\n",
    "TEST_PERC = 0.2\n",
    "\n",
    "assert len(all_positive_tweets) == len(all_negative_tweets)\n",
    "\n",
    "print(\"Len all positive tweets: \", len(all_positive_tweets))\n",
    "print(\"Len all negative tweets: \", len(all_negative_tweets))\n",
    "\n",
    "TRAIN_NR = int(round(TRAIN_PERC * len(all_positive_tweets), 0))\n",
    "TEST_NR = int(round(TEST_PERC * len(all_positive_tweets), 0))\n",
    "\n",
    "X_train_pos = all_positive_tweets[:TRAIN_NR]\n",
    "X_train_neg = all_negative_tweets[:TRAIN_NR]\n",
    "X_test_pos = all_positive_tweets[TRAIN_NR:]\n",
    "X_test_neg = all_negative_tweets[TRAIN_NR:]\n",
    "\n",
    "X_train = X_train_pos + X_train_neg\n",
    "X_test = X_test_pos + X_test_neg\n",
    "\n",
    "Y_train = np.append(np.ones(len(X_train_pos)), np.zeros(len(X_train_neg)))\n",
    "Y_test = np.append(np.ones(len(X_test_pos)), np.zeros(len(X_test_neg)))"
   ]
  },
  {
   "cell_type": "markdown",
   "metadata": {},
   "source": [
    "## Process tweets\n",
    "\n",
    "1. Remove handles and urls\n",
    "2. Remove stopwords and punctuation\n",
    "3. Stemming\n",
    "4. Lowercasing\n"
   ]
  },
  {
   "cell_type": "code",
   "execution_count": 473,
   "metadata": {},
   "outputs": [],
   "source": [
    "stemmer = PorterStemmer()\n",
    "tokensizer = TweetTokenizer(preserve_case=False, strip_handles=True, reduce_len=True)\n",
    "\n",
    "\n",
    "def process_tweet(tweet):\n",
    "    # 1. Remove handles, tickers, re-tweet sign, hyperlinks, hashtags\n",
    "    # ---------------------------------------------------------------\n",
    "\n",
    "    # 1.1. Remove stock market tickers like $GE\n",
    "    tweet = re.sub(r\"\\$\\w*\", \"\", tweet)\n",
    "\n",
    "    # 1.2. Remove old style retweet text \"RT\"\n",
    "    tweet = re.sub(r\"^RT[\\s]+\", \"\", tweet)\n",
    "\n",
    "    # 1.3. Remove hyperlinks\n",
    "    tweet = re.sub(r\"https?://[^\\s\\n\\r]+\", \"\", tweet)\n",
    "\n",
    "    # 1.4. remove hashtag\n",
    "    tweet = re.sub(r\"#\", \"\", tweet)\n",
    "\n",
    "    # 2. Tokenize the tweet\n",
    "    # ------------------------------------------------\n",
    "\n",
    "    tweet_tokens = tokensizer.tokenize(tweet)\n",
    "\n",
    "    # 3. Remove stopwords, punctuation. Perform stemming and transform to lowercase\n",
    "    # -----------------------------------------------------------------------------\n",
    "\n",
    "    stop_words = list(set(stopwords.words(\"english\")))\n",
    "\n",
    "    processed_tweet = [\n",
    "        stemmer.stem(word).lower()\n",
    "        for word in tweet_tokens\n",
    "        if word not in stop_words and word not in string.punctuation\n",
    "    ]\n",
    "\n",
    "    return processed_tweet"
   ]
  },
  {
   "cell_type": "markdown",
   "metadata": {},
   "source": [
    "## Test `process_tweet()`"
   ]
  },
  {
   "cell_type": "code",
   "execution_count": 474,
   "metadata": {},
   "outputs": [
    {
     "name": "stdout",
     "output_type": "stream",
     "text": [
      "['followfriday', 'top', 'engag', 'member', 'commun', 'week', ':)']\n",
      "['hey', 'jame', 'odd', ':/', 'pleas', 'call', 'contact', 'centr', '02392441234', 'abl', 'assist', ':)', 'mani', 'thank']\n",
      "['listen', 'last', 'night', ':)', 'bleed', 'amaz', 'track', 'scotland']\n",
      "['congrat', ':)']\n"
     ]
    }
   ],
   "source": [
    "print(process_tweet(X_train[0]))\n",
    "print(process_tweet(X_train[1]))\n",
    "print(process_tweet(X_train[2]))\n",
    "print(process_tweet(X_train[3]))"
   ]
  },
  {
   "cell_type": "markdown",
   "metadata": {},
   "source": [
    "## Build frequency dictionary"
   ]
  },
  {
   "cell_type": "code",
   "execution_count": 475,
   "metadata": {},
   "outputs": [],
   "source": [
    "def build_freqs(tweets, ys):\n",
    "    freq_dict = {}\n",
    "\n",
    "    for tweet, y in zip(tweets, ys):\n",
    "        for word in process_tweet(tweet):\n",
    "            if (word, y) not in freq_dict:\n",
    "                freq_dict[(word, y)] = 1\n",
    "            else:\n",
    "                freq_dict[(word, y)] += 1\n",
    "\n",
    "    return freq_dict"
   ]
  },
  {
   "cell_type": "code",
   "execution_count": 476,
   "metadata": {},
   "outputs": [],
   "source": [
    "freq_dict = build_freqs(X_train, Y_train)"
   ]
  },
  {
   "cell_type": "markdown",
   "metadata": {},
   "source": [
    "## Test the frequency dictionary"
   ]
  },
  {
   "cell_type": "code",
   "execution_count": 477,
   "metadata": {},
   "outputs": [
    {
     "name": "stdout",
     "output_type": "stream",
     "text": [
      "key: ('followfriday', 1.0) - value: 23\n",
      "key: ('top', 1.0) - value: 30\n",
      "key: ('engag', 1.0) - value: 7\n",
      "key: ('member', 1.0) - value: 14\n",
      "key: ('commun', 1.0) - value: 27\n",
      "key: ('week', 1.0) - value: 72\n",
      "key: (':)', 1.0) - value: 2960\n",
      "key: ('hey', 1.0) - value: 60\n",
      "key: ('jame', 1.0) - value: 7\n",
      "key: ('odd', 1.0) - value: 2\n"
     ]
    }
   ],
   "source": [
    "for k, v in list(freq_dict.items())[:10]:\n",
    "    print(f\"key: {k} - value: {v}\")"
   ]
  },
  {
   "cell_type": "markdown",
   "metadata": {},
   "source": [
    "## Train the model"
   ]
  },
  {
   "cell_type": "markdown",
   "metadata": {},
   "source": [
    "### Sigmoid function (to predict ^y or h)"
   ]
  },
  {
   "cell_type": "code",
   "execution_count": 478,
   "metadata": {},
   "outputs": [],
   "source": [
    "def sigmoid(z):\n",
    "    return 1 / (1 + np.exp(-z))"
   ]
  },
  {
   "cell_type": "markdown",
   "metadata": {},
   "source": [
    "### Set start values of theta"
   ]
  },
  {
   "cell_type": "code",
   "execution_count": 479,
   "metadata": {},
   "outputs": [],
   "source": [
    "theta = np.array([0.0, 0.0, 0.0])\n",
    "alpha = 1e-8\n",
    "m = len(X_train)"
   ]
  },
  {
   "cell_type": "markdown",
   "metadata": {},
   "source": [
    "### Build features matrix"
   ]
  },
  {
   "cell_type": "code",
   "execution_count": 480,
   "metadata": {},
   "outputs": [],
   "source": [
    "def extract_features(x, y, freq_dict, process_tweet=process_tweet):\n",
    "    X = []\n",
    "    for tweet, label in zip(x, y):\n",
    "        pos_freq = 0\n",
    "        neg_freq = 0\n",
    "        tweet_tokens = process_tweet(tweet)\n",
    "        for token in tweet_tokens:\n",
    "            pos_freq += freq_dict[(token, 1)] if (token, 1) in freq_dict else 0\n",
    "            neg_freq += freq_dict[(token, 0)] if (token, 0) in freq_dict else 0\n",
    "        X.append([1, pos_freq, neg_freq])\n",
    "\n",
    "    X = np.array(X)\n",
    "    return X"
   ]
  },
  {
   "cell_type": "markdown",
   "metadata": {},
   "source": [
    "### Gradient descent"
   ]
  },
  {
   "cell_type": "code",
   "execution_count": 481,
   "metadata": {},
   "outputs": [],
   "source": [
    "def gradient_descent(x, y, theta, freq_dict, process_tweet, alpha, epochs):\n",
    "\n",
    "    to_plot = []\n",
    "    xf = extract_features(x, y, freq_dict, process_tweet)\n",
    "\n",
    "    for epoch in range(1, epochs):\n",
    "\n",
    "        # Dimension Analysis:\n",
    "        # ---------------------\n",
    "        #\n",
    "        # z -> theta [1, 3] x xf [m, 3]\n",
    "        # z -> [m, 1]\n",
    "        # z = theta [1, 3] x xf.T [3, m] - > [1, m]\n",
    "        # z = z.T -> [m, 1]\n",
    "        z = np.matmul(theta, xf.T)\n",
    "        h = sigmoid(z)\n",
    "        h = np.clip(h, 1e-10, 1 - 1e-10)\n",
    "        # Dimension analysis\n",
    "        # -------------------\n",
    "        # xf -> [m, 3]\n",
    "        # h -> [m, 1]\n",
    "        # y -> [m, 1]\n",
    "        # grad = xf.T [3, m] x (h-y) [m, 1] -> [3, 1]\n",
    "        # theta -> [1, 3]\n",
    "        # grad -> [1, 3]\n",
    "        # grad = grad.T\n",
    "        grad = (1 / m) * np.matmul(xf.T, h - y)\n",
    "        grad = grad.T\n",
    "        assert grad.shape == theta.shape\n",
    "        J = -(1 / m) * np.sum(y * np.log(h) + (1 - y) * np.log(1 - h))\n",
    "        to_plot.append([J, epoch])\n",
    "        theta = theta - alpha * grad\n",
    "    return J, theta, np.array(to_plot)"
   ]
  },
  {
   "cell_type": "code",
   "execution_count": 482,
   "metadata": {},
   "outputs": [],
   "source": [
    "J, theta, to_plot = gradient_descent(\n",
    "    x=X_train,\n",
    "    y=Y_train,\n",
    "    theta=theta,\n",
    "    freq_dict=freq_dict,\n",
    "    process_tweet=process_tweet,\n",
    "    alpha=alpha,\n",
    "    epochs=60000,\n",
    ")"
   ]
  },
  {
   "cell_type": "code",
   "execution_count": 483,
   "metadata": {},
   "outputs": [],
   "source": [
    "epochs = to_plot[:, 1]\n",
    "loss = to_plot[:, 0]"
   ]
  },
  {
   "cell_type": "code",
   "execution_count": 484,
   "metadata": {},
   "outputs": [
    {
     "data": {
      "image/png": "[encoded data removed]",
      "text/plain": [
       "<Figure size 1000x600 with 1 Axes>"
      ]
     },
     "metadata": {},
     "output_type": "display_data"
    }
   ],
   "source": [
    "fig, ax = plt.subplots(figsize=(10, 6))\n",
    "ax.plot(epochs, loss, marker=\"o\", linestyle=\"-\", color=\"blue\")\n",
    "ax.set_title(\"Loss vs. Epochs\")\n",
    "ax.set_xlabel(\"Epoch\")\n",
    "ax.set_ylabel(\"Loss\")\n",
    "ax.grid(True)\n",
    "plt.show()"
   ]
  },
  {
   "cell_type": "markdown",
   "metadata": {},
   "source": [
    "## Test the logistic regression model"
   ]
  },
  {
   "cell_type": "markdown",
   "metadata": {},
   "source": [
    "### Function for Model Prediction"
   ]
  },
  {
   "cell_type": "code",
   "execution_count": 485,
   "metadata": {},
   "outputs": [],
   "source": [
    "def predict(x, theta):\n",
    "    z = np.matmul(theta, x.T)\n",
    "    h = sigmoid(z)\n",
    "    h = np.clip(h, 1e-10, 1 - 1e-10)\n",
    "    return h"
   ]
  },
  {
   "cell_type": "markdown",
   "metadata": {},
   "source": [
    "### Extract the features of the tweets in X_test"
   ]
  },
  {
   "cell_type": "code",
   "execution_count": 486,
   "metadata": {},
   "outputs": [],
   "source": [
    "features = extract_features(X_test, Y_test, freq_dict=freq_dict)"
   ]
  },
  {
   "cell_type": "markdown",
   "metadata": {},
   "source": [
    "### Predict the y_hat / h / model outputs from X_test"
   ]
  },
  {
   "cell_type": "code",
   "execution_count": 487,
   "metadata": {},
   "outputs": [],
   "source": [
    "h = predict(features, theta)"
   ]
  },
  {
   "cell_type": "markdown",
   "metadata": {},
   "source": [
    "### Set values above 0.5 to 1 and below 0.5 to 0"
   ]
  },
  {
   "cell_type": "code",
   "execution_count": 488,
   "metadata": {},
   "outputs": [],
   "source": [
    "h = np.where(h >= 0.5, 1, 0)"
   ]
  },
  {
   "cell_type": "markdown",
   "metadata": {},
   "source": [
    "### Calculate the accuracy of the model"
   ]
  },
  {
   "cell_type": "code",
   "execution_count": 489,
   "metadata": {},
   "outputs": [
    {
     "name": "stdout",
     "output_type": "stream",
     "text": [
      "Accuracy: 0.9945\n"
     ]
    }
   ],
   "source": [
    "accuracy = np.sum(Y_test == h) / len(Y_test)\n",
    "\n",
    "print(f\"Accuracy: {accuracy}\")"
   ]
  }
 ],
 "metadata": {
  "kernelspec": {
   "display_name": "env",
   "language": "python",
   "name": "python3"
  },
  "language_info": {
   "codemirror_mode": {
    "name": "ipython",
    "version": 3
   },
   "file_extension": ".py",
   "mimetype": "text/x-python",
   "name": "python",
   "nbconvert_exporter": "python",
   "pygments_lexer": "ipython3",
   "version": "3.11.7"
  }
 },
 "nbformat": 4,
 "nbformat_minor": 2
}
