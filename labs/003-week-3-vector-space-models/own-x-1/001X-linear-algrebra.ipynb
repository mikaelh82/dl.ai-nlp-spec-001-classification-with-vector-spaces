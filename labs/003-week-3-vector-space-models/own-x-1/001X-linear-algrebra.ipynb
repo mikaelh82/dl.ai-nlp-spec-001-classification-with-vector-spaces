{
 "cells": [
  {
   "cell_type": "markdown",
   "metadata": {},
   "source": [
    "## Linear Algrebra in Python with Numpy"
   ]
  },
  {
   "cell_type": "code",
   "execution_count": 68,
   "metadata": {},
   "outputs": [],
   "source": [
    "import numpy as np"
   ]
  },
  {
   "cell_type": "markdown",
   "metadata": {},
   "source": [
    "## Lists vs numpy arrays"
   ]
  },
  {
   "cell_type": "code",
   "execution_count": 69,
   "metadata": {},
   "outputs": [],
   "source": [
    "alist = [1, 2, 3, 4, 5]\n",
    "narray = np.array([1, 2, 3, 4])"
   ]
  },
  {
   "cell_type": "code",
   "execution_count": 70,
   "metadata": {},
   "outputs": [
    {
     "name": "stdout",
     "output_type": "stream",
     "text": [
      "[1, 2, 3, 4, 5]\n",
      "[1 2 3 4]\n",
      "<class 'list'>\n",
      "<class 'numpy.ndarray'>\n"
     ]
    }
   ],
   "source": [
    "print(alist)\n",
    "print(narray)\n",
    "\n",
    "print(type(alist))\n",
    "print(type(narray))"
   ]
  },
  {
   "cell_type": "markdown",
   "metadata": {},
   "source": [
    "## Differences in algebraic operations"
   ]
  },
  {
   "cell_type": "code",
   "execution_count": 71,
   "metadata": {},
   "outputs": [
    {
     "name": "stdout",
     "output_type": "stream",
     "text": [
      "[1, 2, 3, 4, 5, 1, 2, 3, 4, 5]\n",
      "[2 4 6 8]\n"
     ]
    }
   ],
   "source": [
    "print(alist + alist)\n",
    "print(narray + narray)"
   ]
  },
  {
   "cell_type": "code",
   "execution_count": 72,
   "metadata": {},
   "outputs": [
    {
     "name": "stdout",
     "output_type": "stream",
     "text": [
      "[1, 2, 3, 4, 5, 1, 2, 3, 4, 5, 1, 2, 3, 4, 5]\n",
      "[ 3  6  9 12]\n"
     ]
    }
   ],
   "source": [
    "print(alist * 3)\n",
    "print(narray * 3)"
   ]
  },
  {
   "cell_type": "markdown",
   "metadata": {},
   "source": [
    "## Matrixes"
   ]
  },
  {
   "cell_type": "code",
   "execution_count": 73,
   "metadata": {},
   "outputs": [
    {
     "name": "stdout",
     "output_type": "stream",
     "text": [
      "[[1 2 3 4]\n",
      " [1 2 3 4]\n",
      " [1 2 3 4]]\n"
     ]
    }
   ],
   "source": [
    "npmatrix1 = np.array([narray, narray, narray])\n",
    "print(npmatrix1)"
   ]
  },
  {
   "cell_type": "code",
   "execution_count": 74,
   "metadata": {},
   "outputs": [
    {
     "name": "stdout",
     "output_type": "stream",
     "text": [
      "[[1 2 3 4 5]\n",
      " [1 2 3 4 5]\n",
      " [1 2 3 4 5]]\n"
     ]
    }
   ],
   "source": [
    "npmatrix2 = np.array([alist, alist, alist])\n",
    "print(npmatrix2)"
   ]
  },
  {
   "cell_type": "code",
   "execution_count": 75,
   "metadata": {},
   "outputs": [
    {
     "name": "stdout",
     "output_type": "stream",
     "text": [
      "[[1 2 3 4]\n",
      " [1 1 1 1]\n",
      " [1 2 3 4]]\n"
     ]
    }
   ],
   "source": [
    "npmatrix3 = np.array([narray, [1, 1, 1, 1], narray])\n",
    "print(npmatrix3)"
   ]
  },
  {
   "cell_type": "markdown",
   "metadata": {},
   "source": [
    "However, when defining a matrix, be sure that all the rows contain the same number of elements. Otherwise, the linear algebra operations could lead to unexpected results.\n",
    "\n",
    "Analyze the following two examples:"
   ]
  },
  {
   "cell_type": "code",
   "execution_count": 76,
   "metadata": {},
   "outputs": [
    {
     "name": "stdout",
     "output_type": "stream",
     "text": [
      "[[1 2]\n",
      " [3 4]]\n",
      "[[2 4]\n",
      " [6 8]]\n"
     ]
    }
   ],
   "source": [
    "# Example 1:\n",
    "\n",
    "okmatrix = np.array([[1, 2], [3, 4]])\n",
    "print(okmatrix)\n",
    "print(okmatrix * 2)"
   ]
  },
  {
   "cell_type": "code",
   "execution_count": 77,
   "metadata": {},
   "outputs": [],
   "source": [
    "# Example 2:\n",
    "# badmatrix = np.array(\n",
    "# [[1, 2], [3, 4], [5, 6, 7]]\n",
    "# )  # Define a matrix. Note the third row contains 3 elements\n",
    "# print(badmatrix)  # Print the malformed matrix\n",
    "# print(badmatrix * 2)  # It is supposed to scale the whole matrix but gives value error"
   ]
  },
  {
   "cell_type": "markdown",
   "metadata": {},
   "source": [
    "## Scaling and translating matrices"
   ]
  },
  {
   "cell_type": "code",
   "execution_count": 78,
   "metadata": {},
   "outputs": [
    {
     "name": "stdout",
     "output_type": "stream",
     "text": [
      "[[1 2]\n",
      " [3 4]]\n",
      "----------\n",
      "[[3 5]\n",
      " [7 9]]\n"
     ]
    }
   ],
   "source": [
    "print(okmatrix)\n",
    "result = okmatrix * 2 + 1\n",
    "print(\"-\" * 10)\n",
    "print(result)"
   ]
  },
  {
   "cell_type": "code",
   "execution_count": 79,
   "metadata": {},
   "outputs": [
    {
     "name": "stdout",
     "output_type": "stream",
     "text": [
      "[[2 4]\n",
      " [6 8]]\n"
     ]
    }
   ],
   "source": [
    "result1 = okmatrix + okmatrix\n",
    "print(result1)"
   ]
  },
  {
   "cell_type": "code",
   "execution_count": 80,
   "metadata": {},
   "outputs": [
    {
     "name": "stdout",
     "output_type": "stream",
     "text": [
      "[[0 0]\n",
      " [0 0]]\n"
     ]
    }
   ],
   "source": [
    "result2 = okmatrix - okmatrix\n",
    "print(result2)"
   ]
  },
  {
   "cell_type": "markdown",
   "metadata": {},
   "source": [
    "The product operator `*` when used on arrays or matrices indicates element-wise multiplications.\n",
    "Do not confuse it with the dot product."
   ]
  },
  {
   "cell_type": "code",
   "execution_count": 81,
   "metadata": {},
   "outputs": [
    {
     "name": "stdout",
     "output_type": "stream",
     "text": [
      "[[1 2]\n",
      " [3 4]]\n",
      "--------------------------------------------------\n",
      "[[ 1  4]\n",
      " [ 9 16]]\n"
     ]
    }
   ],
   "source": [
    "print(okmatrix)\n",
    "result = okmatrix * okmatrix\n",
    "print(\"-\" * 50)\n",
    "print(result)"
   ]
  },
  {
   "cell_type": "markdown",
   "metadata": {},
   "source": [
    "## Transpose matrices"
   ]
  },
  {
   "cell_type": "code",
   "execution_count": 82,
   "metadata": {},
   "outputs": [
    {
     "name": "stdout",
     "output_type": "stream",
     "text": [
      "[[1 2]\n",
      " [3 4]\n",
      " [5 6]]\n",
      "Original matrix has shape: (3, 2)\n",
      "--------------------------------------------------\n"
     ]
    }
   ],
   "source": [
    "matrix3x2 = np.array([[1, 2], [3, 4], [5, 6]])\n",
    "print(matrix3x2)\n",
    "print(f\"Original matrix has shape: {matrix3x2.shape}\")\n",
    "print(\"-\" * 50)"
   ]
  },
  {
   "cell_type": "code",
   "execution_count": 83,
   "metadata": {},
   "outputs": [
    {
     "name": "stdout",
     "output_type": "stream",
     "text": [
      "[[1 3 5]\n",
      " [2 4 6]]\n",
      "Transposed original matrix has shape: (2, 3)\n"
     ]
    }
   ],
   "source": [
    "print(matrix3x2.T)\n",
    "print(f\"Transposed original matrix has shape: {matrix3x2.T.shape}\")"
   ]
  },
  {
   "cell_type": "markdown",
   "metadata": {},
   "source": [
    "Please note that the transpose operation does not affect 1D arrays:"
   ]
  },
  {
   "cell_type": "code",
   "execution_count": 84,
   "metadata": {},
   "outputs": [
    {
     "name": "stdout",
     "output_type": "stream",
     "text": [
      "Original array: [1 2 3 4]\n",
      "Shape original array: (4,)\n",
      "--------------------------------------------------\n",
      "Transposed array: [1 2 3 4]\n",
      "Shape transposed array: (4,)\n",
      "--------------------------------------------------\n"
     ]
    }
   ],
   "source": [
    "arr = np.array([1, 2, 3, 4])\n",
    "print(f\"Original array: {arr}\")\n",
    "print(f\"Shape original array: {arr.shape}\")\n",
    "print(\"-\" * 50)\n",
    "\n",
    "print(f\"Transposed array: {arr.T}\")\n",
    "print(f\"Shape transposed array: {arr.T.shape}\")\n",
    "print(\"-\" * 50)"
   ]
  },
  {
   "cell_type": "markdown",
   "metadata": {},
   "source": [
    "Perhaps, in this case you may want to:"
   ]
  },
  {
   "cell_type": "code",
   "execution_count": 85,
   "metadata": {},
   "outputs": [
    {
     "name": "stdout",
     "output_type": "stream",
     "text": [
      "Original array: [[1 2 3 4]]\n",
      "Shape original array: (1, 4)\n",
      "--------------------------------------------------\n",
      "Transposed array: \n",
      "[[1]\n",
      " [2]\n",
      " [3]\n",
      " [4]]\n",
      "Shape transposed array: (4, 1)\n",
      "--------------------------------------------------\n"
     ]
    }
   ],
   "source": [
    "arr = np.array([[1, 2, 3, 4]])\n",
    "\n",
    "print(f\"Original array: {arr}\")\n",
    "print(f\"Shape original array: {arr.shape}\")\n",
    "print(\"-\" * 50)\n",
    "\n",
    "print(f\"Transposed array: \\n{arr.T}\")\n",
    "print(f\"Shape transposed array: {arr.T.shape}\")\n",
    "print(\"-\" * 50)"
   ]
  },
  {
   "cell_type": "markdown",
   "metadata": {},
   "source": [
    "## Using reshape to transform singletons to one dimensional arrays"
   ]
  },
  {
   "cell_type": "markdown",
   "metadata": {},
   "source": [
    "### Singleton np array unaffected with transpose"
   ]
  },
  {
   "cell_type": "code",
   "execution_count": 86,
   "metadata": {},
   "outputs": [
    {
     "name": "stdout",
     "output_type": "stream",
     "text": [
      "(5,)\n"
     ]
    }
   ],
   "source": [
    "arr = np.array([1, 2, 3, 4, 5])\n",
    "print(arr.shape)"
   ]
  },
  {
   "cell_type": "code",
   "execution_count": 87,
   "metadata": {},
   "outputs": [
    {
     "data": {
      "text/plain": [
       "array([ 1,  4,  9, 16, 25])"
      ]
     },
     "execution_count": 87,
     "metadata": {},
     "output_type": "execute_result"
    }
   ],
   "source": [
    "arr * arr"
   ]
  },
  {
   "cell_type": "code",
   "execution_count": 88,
   "metadata": {},
   "outputs": [
    {
     "name": "stdout",
     "output_type": "stream",
     "text": [
      "[ 1  4  9 16 25]\n",
      "55\n"
     ]
    }
   ],
   "source": [
    "print(arr * arr.T)\n",
    "print(np.sum(arr * arr.T))"
   ]
  },
  {
   "cell_type": "code",
   "execution_count": 89,
   "metadata": {},
   "outputs": [
    {
     "name": "stdout",
     "output_type": "stream",
     "text": [
      "[ 1  4  9 16 25]\n",
      "55\n"
     ]
    }
   ],
   "source": [
    "print(arr.T * arr)\n",
    "print(np.sum(arr.T * arr))"
   ]
  },
  {
   "cell_type": "code",
   "execution_count": 90,
   "metadata": {},
   "outputs": [
    {
     "name": "stdout",
     "output_type": "stream",
     "text": [
      "55\n",
      "55\n",
      "55\n"
     ]
    }
   ],
   "source": [
    "print(arr @ arr)\n",
    "print(arr @ arr.T)\n",
    "print(arr.T @ arr)"
   ]
  },
  {
   "cell_type": "markdown",
   "metadata": {},
   "source": [
    "### Lets see if same yields for non-singletone 1D array"
   ]
  },
  {
   "cell_type": "code",
   "execution_count": 91,
   "metadata": {},
   "outputs": [
    {
     "name": "stdout",
     "output_type": "stream",
     "text": [
      "arr: \n",
      "[1 2 3 4 5]\n",
      "arr shape: (5,)\n"
     ]
    }
   ],
   "source": [
    "print(f\"arr: \\n{arr}\")\n",
    "print(f\"arr shape: {arr.shape}\")"
   ]
  },
  {
   "cell_type": "code",
   "execution_count": 92,
   "metadata": {},
   "outputs": [
    {
     "name": "stdout",
     "output_type": "stream",
     "text": [
      "arr: \n",
      "[[1]\n",
      " [2]\n",
      " [3]\n",
      " [4]\n",
      " [5]]\n",
      "arr shape: (5, 1)\n"
     ]
    }
   ],
   "source": [
    "arr = arr.reshape(-1, 1)\n",
    "print(f\"arr: \\n{arr}\")\n",
    "print(f\"arr shape: {arr.shape}\")"
   ]
  },
  {
   "cell_type": "code",
   "execution_count": 93,
   "metadata": {},
   "outputs": [
    {
     "data": {
      "text/plain": [
       "array([[ 1],\n",
       "       [ 4],\n",
       "       [ 9],\n",
       "       [16],\n",
       "       [25]])"
      ]
     },
     "execution_count": 93,
     "metadata": {},
     "output_type": "execute_result"
    }
   ],
   "source": [
    "arr * arr"
   ]
  },
  {
   "cell_type": "code",
   "execution_count": 102,
   "metadata": {},
   "outputs": [
    {
     "name": "stdout",
     "output_type": "stream",
     "text": [
      "arr: \n",
      "[[1]\n",
      " [2]\n",
      " [3]\n",
      " [4]\n",
      " [5]]\n",
      "--------------------------------------------------\n",
      "arr.T: \n",
      "[[1 2 3 4 5]]\n",
      "--------------------------------------------------\n"
     ]
    }
   ],
   "source": [
    "print(f\"arr: \\n{arr}\")\n",
    "print(\"-\" * 50)\n",
    "print(f\"arr.T: \\n{arr.T}\")\n",
    "print(\"-\" * 50)"
   ]
  },
  {
   "cell_type": "code",
   "execution_count": 119,
   "metadata": {},
   "outputs": [
    {
     "name": "stdout",
     "output_type": "stream",
     "text": [
      "arr: \n",
      "[[1]\n",
      " [2]\n",
      " [3]\n",
      " [4]\n",
      " [5]]\n",
      "--------------------------------------------------\n",
      "arr.T: \n",
      "[[1 2 3 4 5]]\n",
      "--------------------------------------------------\n",
      "arr * arr: \n",
      "[[ 1]\n",
      " [ 4]\n",
      " [ 9]\n",
      " [16]\n",
      " [25]]\n"
     ]
    }
   ],
   "source": [
    "print(f\"arr: \\n{arr}\")\n",
    "print(\"-\" * 50)\n",
    "print(f\"arr.T: \\n{arr.T}\")\n",
    "print(\"-\" * 50)\n",
    "print(f\"arr * arr: \\n{arr * arr}\")"
   ]
  },
  {
   "cell_type": "code",
   "execution_count": 120,
   "metadata": {},
   "outputs": [
    {
     "name": "stdout",
     "output_type": "stream",
     "text": [
      "arr: \n",
      "[[1]\n",
      " [2]\n",
      " [3]\n",
      " [4]\n",
      " [5]]\n",
      "--------------------------------------------------\n",
      "arr.T: \n",
      "[[1 2 3 4 5]]\n",
      "--------------------------------------------------\n",
      "arr.T * arr: \n",
      "[[ 1  2  3  4  5]\n",
      " [ 2  4  6  8 10]\n",
      " [ 3  6  9 12 15]\n",
      " [ 4  8 12 16 20]\n",
      " [ 5 10 15 20 25]]\n"
     ]
    }
   ],
   "source": [
    "print(f\"arr: \\n{arr}\")\n",
    "print(\"-\" * 50)\n",
    "print(f\"arr.T: \\n{arr.T}\")\n",
    "print(\"-\" * 50)\n",
    "print(f\"arr.T * arr: \\n{arr.T * arr}\")"
   ]
  },
  {
   "cell_type": "code",
   "execution_count": 121,
   "metadata": {},
   "outputs": [
    {
     "name": "stdout",
     "output_type": "stream",
     "text": [
      "arr: \n",
      "[[1]\n",
      " [2]\n",
      " [3]\n",
      " [4]\n",
      " [5]]\n",
      "--------------------------------------------------\n",
      "arr.T: \n",
      "[[1 2 3 4 5]]\n",
      "--------------------------------------------------\n",
      "arr * arr.T: \n",
      "[[ 1  2  3  4  5]\n",
      " [ 2  4  6  8 10]\n",
      " [ 3  6  9 12 15]\n",
      " [ 4  8 12 16 20]\n",
      " [ 5 10 15 20 25]]\n"
     ]
    }
   ],
   "source": [
    "print(f\"arr: \\n{arr}\")\n",
    "print(\"-\" * 50)\n",
    "print(f\"arr.T: \\n{arr.T}\")\n",
    "print(\"-\" * 50)\n",
    "print(f\"arr * arr.T: \\n{arr * arr.T}\")"
   ]
  },
  {
   "cell_type": "markdown",
   "metadata": {},
   "source": [
    "### Dimensions makes a difference with (x, 1) arrays"
   ]
  },
  {
   "cell_type": "code",
   "execution_count": 122,
   "metadata": {},
   "outputs": [
    {
     "name": "stdout",
     "output_type": "stream",
     "text": [
      "arr: \n",
      "[[1]\n",
      " [2]\n",
      " [3]\n",
      " [4]\n",
      " [5]]\n",
      "--------------------------------------------------\n",
      "arr.T: \n",
      "[[1 2 3 4 5]]\n",
      "--------------------------------------------------\n",
      "np.dot(arr.T, arr): \n",
      "[[55]]\n"
     ]
    }
   ],
   "source": [
    "print(f\"arr: \\n{arr}\")\n",
    "print(\"-\" * 50)\n",
    "print(f\"arr.T: \\n{arr.T}\")\n",
    "print(\"-\" * 50)\n",
    "print(f\"np.dot(arr.T, arr): \\n{np.dot(arr.T, arr)}\")"
   ]
  },
  {
   "cell_type": "code",
   "execution_count": 123,
   "metadata": {},
   "outputs": [
    {
     "name": "stdout",
     "output_type": "stream",
     "text": [
      "arr: \n",
      "[[1]\n",
      " [2]\n",
      " [3]\n",
      " [4]\n",
      " [5]]\n",
      "--------------------------------------------------\n",
      "arr.T: \n",
      "[[1 2 3 4 5]]\n",
      "--------------------------------------------------\n",
      "np.dot(arr., arr.T): \n",
      "[[ 1  2  3  4  5]\n",
      " [ 2  4  6  8 10]\n",
      " [ 3  6  9 12 15]\n",
      " [ 4  8 12 16 20]\n",
      " [ 5 10 15 20 25]]\n"
     ]
    }
   ],
   "source": [
    "print(f\"arr: \\n{arr}\")\n",
    "print(\"-\" * 50)\n",
    "print(f\"arr.T: \\n{arr.T}\")\n",
    "print(\"-\" * 50)\n",
    "print(f\"np.dot(arr., arr.T): \\n{np.dot(arr, arr.T)}\")"
   ]
  },
  {
   "cell_type": "code",
   "execution_count": 124,
   "metadata": {},
   "outputs": [
    {
     "name": "stdout",
     "output_type": "stream",
     "text": [
      "arr: \n",
      "[[1]\n",
      " [2]\n",
      " [3]\n",
      " [4]\n",
      " [5]]\n",
      "--------------------------------------------------\n",
      "arr.T: \n",
      "[[1 2 3 4 5]]\n",
      "--------------------------------------------------\n",
      "arr.T @ arr: [[55]]\n"
     ]
    }
   ],
   "source": [
    "print(f\"arr: \\n{arr}\")\n",
    "print(\"-\" * 50)\n",
    "print(f\"arr.T: \\n{arr.T}\")\n",
    "print(\"-\" * 50)\n",
    "print(f\"arr.T @ arr: {arr.T @ arr}\")"
   ]
  },
  {
   "cell_type": "markdown",
   "metadata": {},
   "source": [
    "### Need to be careful with dimensions with x,1 arrays. See examples below"
   ]
  },
  {
   "cell_type": "code",
   "execution_count": 127,
   "metadata": {},
   "outputs": [
    {
     "name": "stdout",
     "output_type": "stream",
     "text": [
      "arr: \n",
      "[[1]\n",
      " [2]\n",
      " [3]\n",
      " [4]\n",
      " [5]]\n",
      "--------------------------------------------------\n",
      "arr.T: \n",
      "[[1 2 3 4 5]]\n",
      "--------------------------------------------------\n",
      "arr @ arr.T: \n",
      "[[ 1  2  3  4  5]\n",
      " [ 2  4  6  8 10]\n",
      " [ 3  6  9 12 15]\n",
      " [ 4  8 12 16 20]\n",
      " [ 5 10 15 20 25]]\n"
     ]
    }
   ],
   "source": [
    "print(f\"arr: \\n{arr}\")\n",
    "print(\"-\" * 50)\n",
    "print(f\"arr.T: \\n{arr.T}\")\n",
    "print(\"-\" * 50)\n",
    "print(f\"arr @ arr.T: \\n{arr @ arr.T}\")"
   ]
  },
  {
   "cell_type": "markdown",
   "metadata": {},
   "source": [
    "## Matrix norms"
   ]
  },
  {
   "cell_type": "code",
   "execution_count": 131,
   "metadata": {},
   "outputs": [
    {
     "name": "stdout",
     "output_type": "stream",
     "text": [
      "Norm: 5.477225575051661\n",
      "sqrt(1^2 + 2^2 + 3^2 + 4^2): 5.477225575051661\n"
     ]
    }
   ],
   "source": [
    "nparray1 = np.array([1, 2, 3, 4])\n",
    "norm1 = np.linalg.norm(nparray1)\n",
    "print(f\"Norm: {norm1}\")\n",
    "print(f\"sqrt(1^2 + 2^2 + 3^2 + 4^2): {np.sqrt(1 ** 2 + 2 ** 2 + 3 ** 2 + 4 ** 2)}\")"
   ]
  },
  {
   "cell_type": "code",
   "execution_count": 132,
   "metadata": {},
   "outputs": [
    {
     "name": "stdout",
     "output_type": "stream",
     "text": [
      "5.477225575051661\n",
      "5.477225575051661\n"
     ]
    }
   ],
   "source": [
    "nparray1 = np.array([1, 2, 3, 4])  # Define an array\n",
    "norm1 = np.linalg.norm(nparray1)\n",
    "\n",
    "nparray2 = np.array(\n",
    "    [[1, 2], [3, 4]]\n",
    ")  # Define a 2 x 2 matrix. Note the 2 level of square brackets\n",
    "norm2 = np.linalg.norm(nparray2)\n",
    "\n",
    "print(norm1)\n",
    "print(norm2)"
   ]
  },
  {
   "cell_type": "markdown",
   "metadata": {},
   "source": [
    "Note that without any other parameter, the norm function treats the matrix as being just an array of numbers.\n",
    "However, it is possible to get the norm by rows or by columns. The **axis** parameter controls the form of the operation: \n",
    "* **axis=0** means get the norm of each column\n",
    "* **axis=1** means get the norm of each row. "
   ]
  },
  {
   "cell_type": "code",
   "execution_count": 143,
   "metadata": {},
   "outputs": [
    {
     "name": "stdout",
     "output_type": "stream",
     "text": [
      "nparray2: \n",
      "[[1 1]\n",
      " [2 2]\n",
      " [3 3]]\n",
      "Flattened nparray2: \n",
      "[1 1 2 2 3 3]\n",
      "nparray2.shape: (3, 2)\n",
      "nparray2_flat.shape: (6,)\n",
      "Norm nparray: 5.291502622129181\n",
      "Norm nparray_flat: 5.291502622129181\n"
     ]
    }
   ],
   "source": [
    "print(f\"nparray2: \\n{nparray2}\")\n",
    "nparray2_flat = nparray2.flatten()\n",
    "print(f\"Flattened nparray2: \\n{nparray2_flat}\")\n",
    "print(f\"nparray2.shape: {nparray2.shape}\")\n",
    "print(f\"nparray2_flat.shape: {nparray2_flat.shape}\")\n",
    "print(f\"Norm nparray: {np.linalg.norm(nparray2)}\")\n",
    "print(f\"Norm nparray_flat: {np.linalg.norm(nparray2_flat)}\")"
   ]
  },
  {
   "cell_type": "code",
   "execution_count": 144,
   "metadata": {},
   "outputs": [
    {
     "name": "stdout",
     "output_type": "stream",
     "text": [
      "norm: 5.291502622129181\n",
      "norm_flat: 5.291502622129181\n",
      "norm_by_cols: [3.74165739 3.74165739]\n",
      "norm_by_rows: [1.41421356 2.82842712 4.24264069]\n"
     ]
    }
   ],
   "source": [
    "norm = np.linalg.norm(nparray2)\n",
    "norm_flat = np.linalg.norm(nparray2.flatten())\n",
    "norm_by_cols = np.linalg.norm(nparray2, axis=0)\n",
    "norm_by_rows = np.linalg.norm(nparray2, axis=1)\n",
    "\n",
    "print(f\"norm: {norm}\")\n",
    "print(f\"norm_flat: {norm_flat}\")\n",
    "print(f\"norm_by_cols: {norm_by_cols}\")\n",
    "print(f\"norm_by_rows: {norm_by_rows}\")"
   ]
  },
  {
   "cell_type": "code",
   "execution_count": 145,
   "metadata": {},
   "outputs": [
    {
     "name": "stdout",
     "output_type": "stream",
     "text": [
      "[[[1]\n",
      "  [2]\n",
      "  [3]\n",
      "  [4]]]\n",
      "(1, 4, 1)\n",
      "[1 2 3 4]\n",
      "(4,)\n"
     ]
    }
   ],
   "source": [
    "# Creating a 2D array with a singleton dimension\n",
    "x = np.array([[[1], [2], [3], [4]]])\n",
    "print(x)\n",
    "print(x.shape)  # Output: (1, 4, 1)\n",
    "\n",
    "# Applying np.squeeze\n",
    "x_squeezed = np.squeeze(x)\n",
    "print(x_squeezed)\n",
    "print(x_squeezed.shape)  # Output: (4,)"
   ]
  },
  {
   "cell_type": "markdown",
   "metadata": {},
   "source": [
    "## The dot product"
   ]
  },
  {
   "cell_type": "code",
   "execution_count": 153,
   "metadata": {},
   "outputs": [
    {
     "name": "stdout",
     "output_type": "stream",
     "text": [
      "38\n",
      "38\n",
      "38\n",
      "38\n"
     ]
    }
   ],
   "source": [
    "nparray1 = np.array([0, 1, 2, 3])\n",
    "nparray2 = np.array([4, 5, 6, 7])\n",
    "\n",
    "# Recommended way\n",
    "flavor1 = np.dot(nparray1, nparray2)\n",
    "print(flavor1)\n",
    "\n",
    "# Ok, way\n",
    "flavour2 = np.sum(nparray1 * nparray2)\n",
    "print(flavour2)\n",
    "\n",
    "# Geeks way\n",
    "flavour3 = nparray1 @ nparray2\n",
    "print(flavour3)\n",
    "\n",
    "# The NEVER EVER way\n",
    "flavour4 = 0\n",
    "\n",
    "for x, y in zip(nparray1, nparray2):\n",
    "    flavour4 += x * y\n",
    "\n",
    "print(flavour4)"
   ]
  },
  {
   "cell_type": "markdown",
   "metadata": {},
   "source": [
    "**We strongly recommend using np.dot, since it is the only method that accepts arrays and lists without problems**"
   ]
  },
  {
   "cell_type": "code",
   "execution_count": 154,
   "metadata": {},
   "outputs": [
    {
     "name": "stdout",
     "output_type": "stream",
     "text": [
      "11 = 11\n"
     ]
    }
   ],
   "source": [
    "norm1 = np.dot(np.array([1, 2]), np.array([3, 4]))  # Dot product on nparrays\n",
    "norm2 = np.dot([1, 2], [3, 4])  # Dot product on python lists\n",
    "\n",
    "print(norm1, \"=\", norm2)"
   ]
  },
  {
   "cell_type": "markdown",
   "metadata": {},
   "source": [
    "## Sums by rows and columns"
   ]
  },
  {
   "cell_type": "code",
   "execution_count": 156,
   "metadata": {},
   "outputs": [
    {
     "name": "stdout",
     "output_type": "stream",
     "text": [
      "array: \n",
      "[[ 1 -1]\n",
      " [ 2 -2]\n",
      " [ 3 -3]]\n",
      "--------------------------------------------------\n",
      "Sum by columns: [ 6 -6]\n",
      "Sum by rows: [0 0 0]\n"
     ]
    }
   ],
   "source": [
    "nparray2 = np.array([[1, -1], [2, -2], [3, -3]])\n",
    "\n",
    "sum_by_cols = np.sum(nparray2, axis=0)\n",
    "sum_by_rows = np.sum(nparray2, axis=1)\n",
    "print(f\"array: \\n{nparray2}\")\n",
    "print(\"-\" * 50)\n",
    "print(f\"Sum by columns: {sum_by_cols}\")\n",
    "print(f\"Sum by rows: {sum_by_rows}\")"
   ]
  },
  {
   "cell_type": "markdown",
   "metadata": {},
   "source": [
    "## Get the mean by rows or columns"
   ]
  },
  {
   "cell_type": "code",
   "execution_count": 158,
   "metadata": {},
   "outputs": [
    {
     "name": "stdout",
     "output_type": "stream",
     "text": [
      "0.0\n",
      "[ 2. -2.]\n",
      "[0. 0. 0.]\n"
     ]
    }
   ],
   "source": [
    "# Mean of all items in matrix\n",
    "mean = np.mean(nparray2)\n",
    "\n",
    "# Mean of all columns\n",
    "mean_cols = np.mean(nparray2, axis=0)\n",
    "\n",
    "# Mean of all rows\n",
    "mean_rows = np.mean(nparray2, axis=1)\n",
    "\n",
    "print(mean)\n",
    "print(mean_cols)\n",
    "print(mean_rows)"
   ]
  },
  {
   "cell_type": "markdown",
   "metadata": {},
   "source": [
    "## Center of the columns of a matrix"
   ]
  },
  {
   "cell_type": "code",
   "execution_count": 161,
   "metadata": {},
   "outputs": [
    {
     "name": "stdout",
     "output_type": "stream",
     "text": [
      "[[ 1 -1]\n",
      " [ 2 -2]\n",
      " [ 3 -3]]\n",
      "--------------------------------------------------\n",
      "[ 2. -2.]\n",
      "--------------------------------------------------\n",
      "[[-1.  1.]\n",
      " [ 0.  0.]\n",
      " [ 1. -1.]]\n"
     ]
    }
   ],
   "source": [
    "print(nparray2)\n",
    "print(\"-\" * 50)\n",
    "print(np.mean(nparray2, axis=0))\n",
    "print(\"-\" * 50)\n",
    "\n",
    "nparray_centered = nparray2 - np.mean(nparray2, axis=0)\n",
    "\n",
    "print(nparray_centered)"
   ]
  },
  {
   "cell_type": "markdown",
   "metadata": {},
   "source": [
    "### Row centering"
   ]
  },
  {
   "cell_type": "code",
   "execution_count": 163,
   "metadata": {},
   "outputs": [
    {
     "name": "stdout",
     "output_type": "stream",
     "text": [
      "[[1 3]\n",
      " [2 4]\n",
      " [3 5]]\n",
      "----\n",
      "[2. 3. 4.]\n",
      "----\n",
      "[[1 2 3]\n",
      " [3 4 5]]\n",
      "----\n",
      "[[-1. -1. -1.]\n",
      " [ 1.  1.  1.]]\n",
      "[[-1.  1.]\n",
      " [-1.  1.]\n",
      " [-1.  1.]]\n"
     ]
    }
   ],
   "source": [
    "nparray2 = np.array([[1, 3], [2, 4], [3, 5]])  # Define a 3 x 2 matrix.\n",
    "print(nparray2)\n",
    "print(\"----\")\n",
    "print(np.mean(nparray2, axis=1))\n",
    "print(\"----\")\n",
    "print(nparray2.T)\n",
    "print(\"----\")\n",
    "nparray_row_centered = nparray2.T - np.mean(nparray2, axis=1)\n",
    "print(nparray_row_centered)\n",
    "nparray_row_centered = nparray_row_centered.T\n",
    "print(nparray_row_centered)"
   ]
  },
  {
   "cell_type": "code",
   "execution_count": 164,
   "metadata": {},
   "outputs": [
    {
     "data": {
      "text/plain": [
       "array([0., 0., 0.])"
      ]
     },
     "execution_count": 164,
     "metadata": {},
     "output_type": "execute_result"
    }
   ],
   "source": [
    "# Lets test it:\n",
    "\n",
    "np.mean(nparray_row_centered, axis=1)"
   ]
  }
 ],
 "metadata": {
  "kernelspec": {
   "display_name": "env",
   "language": "python",
   "name": "python3"
  },
  "language_info": {
   "codemirror_mode": {
    "name": "ipython",
    "version": 3
   },
   "file_extension": ".py",
   "mimetype": "text/x-python",
   "name": "python",
   "nbconvert_exporter": "python",
   "pygments_lexer": "ipython3",
   "version": "3.11.7"
  }
 },
 "nbformat": 4,
 "nbformat_minor": 2
}
